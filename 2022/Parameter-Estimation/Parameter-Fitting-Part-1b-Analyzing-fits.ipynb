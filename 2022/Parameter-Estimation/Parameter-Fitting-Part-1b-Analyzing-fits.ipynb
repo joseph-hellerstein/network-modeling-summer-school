{
 "cells": [
  {
   "cell_type": "markdown",
   "metadata": {
    "id": "b_6pWI1l_ptk"
   },
   "source": [
    "# PARAMETER FITTING PART 1B: ANALYZING FITS\n"
   ]
  },
  {
   "cell_type": "markdown",
   "metadata": {
    "id": "441hxZnP1gkT"
   },
   "source": [
    "This notebook provides explores the key elements of fitting parameters."
   ]
  },
  {
   "cell_type": "markdown",
   "metadata": {
    "id": "DDsRwu1v_ptn"
   },
   "source": [
    "# Preliminaries"
   ]
  },
  {
   "cell_type": "code",
   "execution_count": 1,
   "metadata": {
    "colab": {
     "base_uri": "https://localhost:8080/"
    },
    "executionInfo": {
     "elapsed": 48085,
     "status": "ok",
     "timestamp": 1657228124383,
     "user": {
      "displayName": "Joseph Hellerstein",
      "userId": "07301174361489660166"
     },
     "user_tz": 420
    },
    "id": "sDo7TOtiRPQX",
    "outputId": "01d79324-4002-4246-fd14-c218924c4590"
   },
   "outputs": [],
   "source": [
    "!pip install -q tellurium\n",
    "!pip install -q SBstoat"
   ]
  },
  {
   "cell_type": "code",
   "execution_count": 2,
   "metadata": {
    "executionInfo": {
     "elapsed": 1606,
     "status": "ok",
     "timestamp": 1657228125977,
     "user": {
      "displayName": "Joseph Hellerstein",
      "userId": "07301174361489660166"
     },
     "user_tz": 420
    },
    "id": "HTjwgSnI_ptn"
   },
   "outputs": [],
   "source": [
    "# Python packages used in this chapter\n",
    "import matplotlib.pyplot as plt\n",
    "import numpy as np\n",
    "import os\n",
    "import pandas as pd\n",
    "import urllib.request # use this library to download file from GitHub\n",
    "import tellurium as te\n",
    "from SBstoat.namedTimeseries import NamedTimeseries, TIME\n",
    "from SBstoat.modelFitter import ModelFitter\n",
    "import SBstoat"
   ]
  },
  {
   "cell_type": "code",
   "execution_count": 3,
   "metadata": {
    "colab": {
     "base_uri": "https://localhost:8080/"
    },
    "executionInfo": {
     "elapsed": 1333,
     "status": "ok",
     "timestamp": 1657228127308,
     "user": {
      "displayName": "Joseph Hellerstein",
      "userId": "07301174361489660166"
     },
     "user_tz": 420
    },
    "id": "0GeZyBQv9raq",
    "outputId": "607de8fb-5e49-4816-b2dd-69535b4fc87e"
   },
   "outputs": [
    {
     "name": "stdout",
     "output_type": "stream",
     "text": [
      "import pandas as pd\n",
      "import urllib.request\n",
      "\n",
      "# Linear pathway data\n",
      "BASE_URL = \"https://github.com/sys-bio/network-modeling-summer-school-2021/raw/main/\"\n",
      "BASE_DATA_URL = \"%sdata/\" % BASE_URL\n",
      "BASE_MODULE_URL = \"%ssrc/\" % BASE_URL\n",
      "BASE_MODEL_URL = \"%smodels/\" % BASE_URL\n",
      "LOCAL_FILE = \"local_file.txt\"\n",
      "\n",
      "\n",
      "def getData(csvFilename):\n",
      "    \"\"\"\n",
      "    Creates a dataframe from a CSV structured URL file.\n",
      "\n",
      "    Parameters\n",
      "    ----------\n",
      "    csvFilename: str\n",
      "        Name of the CSV file (w/o \".csv\" extension)\n",
      "\n",
      "    Returns\n",
      "    -------\n",
      "    pd.DataFrame\n",
      "    \"\"\"\n",
      "    url = \"%s%s.csv\" % (BASE_DATA_URL, csvFilename)\n",
      "    filename, _ = urllib.request.urlretrieve(url, filename=LOCAL_FILE)\n",
      "    return pd.read_csv(LOCAL_FILE)\n",
      "\n",
      "def getModule(moduleName):\n",
      "    \"\"\"\n",
      "    Obtains common codes from the github repository.\n",
      "  \n",
      "    Parameters\n",
      "    ----------\n",
      "    moduleName: str\n",
      "        name of the python module in the src directory\n",
      "    \"\"\"\n",
      "    url = \"%s%s.py\" % (BASE_MODULE_URL, moduleName)\n",
      "    _, _ = urllib.request.urlretrieve(url, filename=LOCAL_FILE)\n",
      "    with open(LOCAL_FILE, \"r\") as fd:\n",
      "        codeStr = \"\".join(fd.readlines())\n",
      "    return codeStr\n",
      "\n",
      "def getModel(modelName):\n",
      "    \"\"\"\n",
      "    Creates returns the string for the antimony model.\n",
      "\n",
      "    Parameters\n",
      "    ----------\n",
      "    modelName: str\n",
      "        Name of the model w/o \".ant\"\n",
      "\n",
      "    Returns\n",
      "    -------\n",
      "    str\n",
      "    \"\"\"\n",
      "    url = \"%s%s.ant\" % (BASE_MODEL_URL, modelName)\n",
      "    filename, _ = urllib.request.urlretrieve(url, filename=LOCAL_FILE)\n",
      "    with open(LOCAL_FILE, \"r\") as fd:\n",
      "        result = \"\".join(fd.readlines())\n",
      "    return result\n",
      "\n",
      "# Set models\n",
      "WOLF_MODEL = getModel(\"wolf\")\n",
      "WOLF_DF = getData(\"wolf\")\n",
      "WOLF_ARR = WOLF_DF.to_numpy()\n",
      "LINEAR_PATHWAY_DF = getData(\"linear_pathway\")\n",
      "LINEAR_PATHWAY_ARR = LINEAR_PATHWAY_DF.to_numpy()\n",
      "LINEAR_PATHWAY_MODEL = getModel(\"linear_pathway\")\n",
      "\n"
     ]
    }
   ],
   "source": [
    "def getSharedCodes(moduleName):\n",
    "  \"\"\"\n",
    "  Obtains common codes from the github repository.\n",
    "\n",
    "  Parameters\n",
    "  ----------\n",
    "  moduleName: str\n",
    "      name of the python module in the src directory\n",
    "  \"\"\"\n",
    "  url = \"https://github.com/sys-bio/network-modeling-summer-school-2021/raw/main/src/%s.py\" % moduleName\n",
    "  local_python = \"python.py\"\n",
    "  _, _ = urllib.request.urlretrieve(url=url, filename=local_python)\n",
    "  with open(local_python, \"r\") as fd:\n",
    "    codeStr = \"\".join(fd.readlines())\n",
    "  print(codeStr)\n",
    "  exec(codeStr, globals())\n",
    "\n",
    "# Acquire codes\n",
    "getSharedCodes(\"util\")\n",
    "\n",
    "# TESTS\n",
    "assert(isinstance(LINEAR_PATHWAY_DF, pd.DataFrame))"
   ]
  },
  {
   "cell_type": "code",
   "execution_count": 15,
   "metadata": {},
   "outputs": [
    {
     "name": "stdout",
     "output_type": "stream",
     "text": [
      "// Created by libAntimony v2.12.0.3\n",
      "model *Jana_WolfGlycolysis()\n",
      "\n",
      "  // Compartments and Species:\n",
      "  compartment compartment_;\n",
      "  species Glucose in compartment_, fructose_1_6_bisphosphate in compartment_;\n",
      "  species glyceraldehyde_3_phosphate in compartment_, glycerate_3_phosphate in compartment_;\n",
      "  species pyruvate in compartment_, Acetyladehyde in compartment_, External_acetaldehyde in compartment_;\n",
      "  species ATP in compartment_, ADP in compartment_, NAD in compartment_, NADH in compartment_;\n",
      "  species $External_glucose in compartment_, $ethanol in compartment_, $Glycerol in compartment_;\n",
      "  species $Sink in compartment_;\n",
      "\n",
      "  // Reactions:\n",
      "  J0: $External_glucose => Glucose; J0_inputFlux;\n",
      "  J1: Glucose + 2 ATP => fructose_1_6_bisphosphate + 2 ADP; J1_k1*Glucose*ATP*(1/(1 + (ATP/J1_Ki)^J1_n));\n",
      "  J2: fructose_1_6_bisphosphate => glyceraldehyde_3_phosphate + glyceraldehyde_3_phosphate; J2_k*fructose_1_6_bisphosphate;\n",
      "  J3: glyceraldehyde_3_phosphate + NADH => NAD + $Glycerol; J3_k*glyceraldehyde_3_phosphate*NADH;\n",
      "  J4: glyceraldehyde_3_phosphate + ADP + NAD => ATP + glycerate_3_phosphate + NADH; (J4_kg*J4_kp*glyceraldehyde_3_phosphate*NAD*ADP - J4_ka*J4_kk*glycerate_3_phosphate*ATP*NADH)/(J4_ka*NADH + J4_kp*ADP);\n",
      "  J5: glycerate_3_phosphate + ADP => ATP + pyruvate; J5_k*glycerate_3_phosphate*ADP;\n",
      "  J6: pyruvate => Acetyladehyde; J6_k*pyruvate;\n",
      "  J7: Acetyladehyde + NADH => NAD + $ethanol; J7_k*Acetyladehyde*NADH;\n",
      "  J8: Acetyladehyde => External_acetaldehyde; J8_k1*Acetyladehyde - J8_k2*External_acetaldehyde;\n",
      "  J9: ATP => ADP; J9_k*ATP;\n",
      "  J10: External_acetaldehyde => $Sink; J10_k*External_acetaldehyde;\n",
      "\n",
      "  // Species initializations:\n",
      "  Glucose = 0;\n",
      "  fructose_1_6_bisphosphate = 0;\n",
      "  glyceraldehyde_3_phosphate = 0;\n",
      "  glycerate_3_phosphate = 0;\n",
      "  pyruvate = 0;\n",
      "  Acetyladehyde = 0;\n",
      "  External_acetaldehyde = 0;\n",
      "  ATP = 3;\n",
      "  ADP = 1;\n",
      "  NAD = 0.5;\n",
      "  NADH = 0.5;\n",
      "  External_glucose = 0;\n",
      "  ethanol = 0;\n",
      "  Glycerol = 0;\n",
      "  Sink = 0;\n",
      "\n",
      "  // Compartment initializations:\n",
      "  compartment_ = 1;\n",
      "\n",
      "  // Variable initializations:\n",
      "  J0_inputFlux = 50;\n",
      "  J1_k1 = 550;\n",
      "  J1_Ki = 1;\n",
      "  J1_n = 4;\n",
      "  J2_k = 9.8;\n",
      "  J3_k = 85.7;\n",
      "  J4_kg = 323.8;\n",
      "  J4_kp = 76411.1;\n",
      "  J4_ka = 57823.1;\n",
      "  J4_kk = 23.7;\n",
      "  J5_k = 80;\n",
      "  J6_k = 9.7;\n",
      "  J7_k = 2000;\n",
      "  J8_k1 = 375;\n",
      "  J8_k2 = 375;\n",
      "  J9_k = 28;\n",
      "  J10_k = 80;\n",
      "  \n",
      "  // Other declarations:\n",
      "  const compartment_, J0_inputFlux, J1_k1, J1_Ki, J1_n, J2_k, J3_k;\n",
      "  const J4_kg, J4_kp, J4_ka, J4_kk, J5_k, J6_k, J7_k, J8_k1, J8_k2;\n",
      "  const J9_k, J10_k;\n",
      "end\n"
     ]
    }
   ],
   "source": [
    "print(WOLF_MODEL)"
   ]
  },
  {
   "cell_type": "markdown",
   "metadata": {},
   "source": [
    "# Helpers"
   ]
  },
  {
   "cell_type": "code",
   "execution_count": 21,
   "metadata": {},
   "outputs": [
    {
     "name": "stdout",
     "output_type": "stream",
     "text": [
      "OK!\n"
     ]
    }
   ],
   "source": [
    "def plotLinearPathway(is_plot=True):\n",
    "    SPECIES_NAMES = [\"S1\", \"S2\", \"S3\", \"S4\", \"S5\"]\n",
    "    fig, ax = plt.subplots(1)\n",
    "    numRow, numCol = np.shape(LINEAR_PATHWAY_ARR)\n",
    "    for icol in range(1, numCol):\n",
    "        ax.scatter(LINEAR_PATHWAY_ARR[:, 0], LINEAR_PATHWAY_ARR[:, icol])\n",
    "        _ = plt.legend(SPECIES_NAMES)\n",
    "    if not is_plot:\n",
    "        plt.close()\n",
    "\n",
    "# Tests\n",
    "plotLinearPathway(is_plot=False)\n",
    "print(\"OK!\")"
   ]
  },
  {
   "cell_type": "markdown",
   "metadata": {
    "id": "REHYGlmp_pto"
   },
   "source": [
    "# Linear Pathway Model & Data"
   ]
  },
  {
   "cell_type": "markdown",
   "metadata": {
    "id": "UAl1msSM_pto"
   },
   "source": [
    "To make these ideas concrete, we use the linear pathway model."
   ]
  },
  {
   "cell_type": "code",
   "execution_count": 4,
   "metadata": {
    "colab": {
     "base_uri": "https://localhost:8080/"
    },
    "executionInfo": {
     "elapsed": 212,
     "status": "ok",
     "timestamp": 1657228127518,
     "user": {
      "displayName": "Joseph Hellerstein",
      "userId": "07301174361489660166"
     },
     "user_tz": 420
    },
    "id": "h9IntR4z_ptp",
    "outputId": "cc90f09d-3beb-4a9d-ee86-446ad085414b"
   },
   "outputs": [
    {
     "name": "stdout",
     "output_type": "stream",
     "text": [
      "R1:  S1 -> S2; k1*S1  \n",
      "R2: S2 -> S3; k2*S2\n",
      "R3: S3 -> S4; k3*S3\n",
      "R4: S4 -> S5; k4*S4\n",
      "\n",
      "S1 = 10\n",
      "\n",
      "// Parameters\n",
      "k1 = 0; # Nominal value of parameter\n",
      "k2 = 0; # Nominal value of parameter\n",
      "k3 = 0; # Nominal value of parameter\n",
      "k4 = 0; # Nominal value of parameter\n",
      "\n"
     ]
    }
   ],
   "source": [
    "print(LINEAR_PATHWAY_MODEL)"
   ]
  },
  {
   "cell_type": "markdown",
   "metadata": {
    "id": "492kzUZf_ptp"
   },
   "source": [
    "Note that the values of the parameters are 0! This is not because their true value is 0.\n",
    "Rather, it's because we don't know the value of these parameters."
   ]
  },
  {
   "cell_type": "markdown",
   "metadata": {
    "id": "sCOE3S6i_ptp"
   },
   "source": [
    "It is very common to have parameters with unknown values in kinetics models. Typically, we know the range\n",
    "of the parameter values, but not a suitable value itself.\n",
    "\n",
    "So, how do we run a model with known values for *all* of its parameters? The answer is that we estimate or **fit paramter values** based on observed data.\n",
    "\n",
    "For this example, the observational data are in the file specified in ``LINEAR_PATHWAY_DATA``."
   ]
  },
  {
   "cell_type": "code",
   "execution_count": 5,
   "metadata": {
    "colab": {
     "base_uri": "https://localhost:8080/",
     "height": 0
    },
    "executionInfo": {
     "elapsed": 7,
     "status": "ok",
     "timestamp": 1657228127519,
     "user": {
      "displayName": "Joseph Hellerstein",
      "userId": "07301174361489660166"
     },
     "user_tz": 420
    },
    "id": "XENO_8uMggVC",
    "outputId": "a865184c-4fce-41ce-c9ed-a8cbead7ab30"
   },
   "outputs": [
    {
     "data": {
      "text/html": [
       "<div>\n",
       "<style scoped>\n",
       "    .dataframe tbody tr th:only-of-type {\n",
       "        vertical-align: middle;\n",
       "    }\n",
       "\n",
       "    .dataframe tbody tr th {\n",
       "        vertical-align: top;\n",
       "    }\n",
       "\n",
       "    .dataframe thead th {\n",
       "        text-align: right;\n",
       "    }\n",
       "</style>\n",
       "<table border=\"1\" class=\"dataframe\">\n",
       "  <thead>\n",
       "    <tr style=\"text-align: right;\">\n",
       "      <th></th>\n",
       "      <th>time</th>\n",
       "      <th>S1</th>\n",
       "      <th>S2</th>\n",
       "      <th>S3</th>\n",
       "      <th>S4</th>\n",
       "      <th>S5</th>\n",
       "    </tr>\n",
       "  </thead>\n",
       "  <tbody>\n",
       "    <tr>\n",
       "      <th>0</th>\n",
       "      <td>1.000000</td>\n",
       "      <td>8.516780</td>\n",
       "      <td>0.000000</td>\n",
       "      <td>0.000000</td>\n",
       "      <td>0.000000</td>\n",
       "      <td>0.000000</td>\n",
       "    </tr>\n",
       "    <tr>\n",
       "      <th>1</th>\n",
       "      <td>1.090909</td>\n",
       "      <td>7.453911</td>\n",
       "      <td>0.761657</td>\n",
       "      <td>0.073722</td>\n",
       "      <td>0.006608</td>\n",
       "      <td>0.000482</td>\n",
       "    </tr>\n",
       "    <tr>\n",
       "      <th>2</th>\n",
       "      <td>1.181818</td>\n",
       "      <td>8.282868</td>\n",
       "      <td>1.212772</td>\n",
       "      <td>0.260522</td>\n",
       "      <td>0.038722</td>\n",
       "      <td>0.007036</td>\n",
       "    </tr>\n",
       "    <tr>\n",
       "      <th>3</th>\n",
       "      <td>1.272727</td>\n",
       "      <td>7.613030</td>\n",
       "      <td>1.810058</td>\n",
       "      <td>0.352075</td>\n",
       "      <td>0.083708</td>\n",
       "      <td>0.031581</td>\n",
       "    </tr>\n",
       "    <tr>\n",
       "      <th>4</th>\n",
       "      <td>1.363636</td>\n",
       "      <td>6.315379</td>\n",
       "      <td>2.254405</td>\n",
       "      <td>0.699869</td>\n",
       "      <td>0.159682</td>\n",
       "      <td>0.085216</td>\n",
       "    </tr>\n",
       "    <tr>\n",
       "      <th>...</th>\n",
       "      <td>...</td>\n",
       "      <td>...</td>\n",
       "      <td>...</td>\n",
       "      <td>...</td>\n",
       "      <td>...</td>\n",
       "      <td>...</td>\n",
       "    </tr>\n",
       "    <tr>\n",
       "      <th>95</th>\n",
       "      <td>9.636364</td>\n",
       "      <td>0.001848</td>\n",
       "      <td>0.001562</td>\n",
       "      <td>0.001627</td>\n",
       "      <td>0.001779</td>\n",
       "      <td>10.644394</td>\n",
       "    </tr>\n",
       "    <tr>\n",
       "      <th>96</th>\n",
       "      <td>9.727273</td>\n",
       "      <td>0.001355</td>\n",
       "      <td>0.001709</td>\n",
       "      <td>0.001589</td>\n",
       "      <td>0.001345</td>\n",
       "      <td>9.547320</td>\n",
       "    </tr>\n",
       "    <tr>\n",
       "      <th>97</th>\n",
       "      <td>9.818182</td>\n",
       "      <td>0.001299</td>\n",
       "      <td>0.001596</td>\n",
       "      <td>0.001622</td>\n",
       "      <td>0.001715</td>\n",
       "      <td>9.130269</td>\n",
       "    </tr>\n",
       "    <tr>\n",
       "      <th>98</th>\n",
       "      <td>9.909091</td>\n",
       "      <td>0.001271</td>\n",
       "      <td>0.001288</td>\n",
       "      <td>0.001250</td>\n",
       "      <td>0.001256</td>\n",
       "      <td>10.895552</td>\n",
       "    </tr>\n",
       "    <tr>\n",
       "      <th>99</th>\n",
       "      <td>10.000000</td>\n",
       "      <td>0.001239</td>\n",
       "      <td>0.001106</td>\n",
       "      <td>0.001096</td>\n",
       "      <td>0.001188</td>\n",
       "      <td>11.526633</td>\n",
       "    </tr>\n",
       "  </tbody>\n",
       "</table>\n",
       "<p>100 rows × 6 columns</p>\n",
       "</div>"
      ],
      "text/plain": [
       "         time        S1        S2        S3        S4         S5\n",
       "0    1.000000  8.516780  0.000000  0.000000  0.000000   0.000000\n",
       "1    1.090909  7.453911  0.761657  0.073722  0.006608   0.000482\n",
       "2    1.181818  8.282868  1.212772  0.260522  0.038722   0.007036\n",
       "3    1.272727  7.613030  1.810058  0.352075  0.083708   0.031581\n",
       "4    1.363636  6.315379  2.254405  0.699869  0.159682   0.085216\n",
       "..        ...       ...       ...       ...       ...        ...\n",
       "95   9.636364  0.001848  0.001562  0.001627  0.001779  10.644394\n",
       "96   9.727273  0.001355  0.001709  0.001589  0.001345   9.547320\n",
       "97   9.818182  0.001299  0.001596  0.001622  0.001715   9.130269\n",
       "98   9.909091  0.001271  0.001288  0.001250  0.001256  10.895552\n",
       "99  10.000000  0.001239  0.001106  0.001096  0.001188  11.526633\n",
       "\n",
       "[100 rows x 6 columns]"
      ]
     },
     "execution_count": 5,
     "metadata": {},
     "output_type": "execute_result"
    }
   ],
   "source": [
    "LINEAR_PATHWAY_DF"
   ]
  },
  {
   "cell_type": "code",
   "execution_count": 6,
   "metadata": {
    "colab": {
     "base_uri": "https://localhost:8080/"
    },
    "executionInfo": {
     "elapsed": 6,
     "status": "ok",
     "timestamp": 1657228127519,
     "user": {
      "displayName": "Joseph Hellerstein",
      "userId": "07301174361489660166"
     },
     "user_tz": 420
    },
    "id": "lA4kvQkDiZUU",
    "outputId": "e25f579b-6ea3-4f85-a52f-0f613eed2e12"
   },
   "outputs": [
    {
     "data": {
      "text/plain": [
       "array([[1.00000000e+00, 8.51678036e+00, 0.00000000e+00, 0.00000000e+00,\n",
       "        0.00000000e+00, 0.00000000e+00],\n",
       "       [1.09090909e+00, 7.45391115e+00, 7.61656564e-01, 7.37219347e-02,\n",
       "        6.60778277e-03, 4.82334671e-04],\n",
       "       [1.18181818e+00, 8.28286758e+00, 1.21277213e+00, 2.60522199e-01,\n",
       "        3.87223027e-02, 7.03598959e-03],\n",
       "       [1.27272727e+00, 7.61303021e+00, 1.81005756e+00, 3.52075303e-01,\n",
       "        8.37075579e-02, 3.15814521e-02],\n",
       "       [1.36363636e+00, 6.31537918e+00, 2.25440468e+00, 6.99869349e-01,\n",
       "        1.59682183e-01, 8.52162442e-02],\n",
       "       [1.45454545e+00, 7.60029359e+00, 2.53934763e+00, 1.00050901e+00,\n",
       "        3.01052446e-01, 2.08922107e-01],\n",
       "       [1.54545455e+00, 5.38910939e+00, 2.35260007e+00, 8.49514531e-01,\n",
       "        3.69980464e-01, 3.06653894e-01],\n",
       "       [1.63636364e+00, 5.41140224e+00, 2.98080193e+00, 1.20718732e+00,\n",
       "        6.36913521e-01, 4.75265940e-01],\n",
       "       [1.72727273e+00, 4.56449516e+00, 2.01172053e+00, 1.32967397e+00,\n",
       "        6.53568960e-01, 5.78270309e-01],\n",
       "       [1.81818182e+00, 3.53071936e+00, 2.00169360e+00, 1.17378690e+00,\n",
       "        8.68272208e-01, 9.88267376e-01]])"
      ]
     },
     "execution_count": 6,
     "metadata": {},
     "output_type": "execute_result"
    }
   ],
   "source": [
    "LINEAR_PATHWAY_ARR[0:10, :]"
   ]
  },
  {
   "cell_type": "code",
   "execution_count": 23,
   "metadata": {
    "colab": {
     "base_uri": "https://localhost:8080/",
     "height": 0
    },
    "executionInfo": {
     "elapsed": 187,
     "status": "ok",
     "timestamp": 1657228127702,
     "user": {
      "displayName": "Joseph Hellerstein",
      "userId": "07301174361489660166"
     },
     "user_tz": 420
    },
    "id": "KPd29h35_ptp",
    "outputId": "456a79ee-5655-4be4-89f8-4179c93b3f52"
   },
   "outputs": [
    {
     "data": {
      "image/png": "[encoded data removed]",
      "text/plain": [
       "<Figure size 432x288 with 1 Axes>"
      ]
     },
     "metadata": {
      "needs_background": "light"
     },
     "output_type": "display_data"
    }
   ],
   "source": [
    "plotLinearPathway()"
   ]
  },
  {
   "cell_type": "markdown",
   "metadata": {
    "id": "lnZ9f7RC_ptr"
   },
   "source": [
    "The following sections provide details of parameter fitting using the ``PATHWAY_MODEL``."
   ]
  },
  {
   "cell_type": "markdown",
   "metadata": {
    "id": "-hmqPyB2_ptr"
   },
   "source": [
    "# Fitting Basics <a class=\"anchor\" id=\"parameter-fitting-fitting-basics\"></a>"
   ]
  },
  {
   "cell_type": "markdown",
   "metadata": {
    "id": "zmsDwHwP_ptr"
   },
   "source": [
    "Some key concepts are:\n",
    "- A **parameter** is a constant whose value is unknown.\n",
    "- **Observed data** are data that are used for fitting parameter values.\n",
    "- **Fitted data** are data produced by a simulation for an assignment of values to parameters.\n",
    "- **Residuals** are the difference between observed data and simulated data."
   ]
  },
  {
   "cell_type": "markdown",
   "metadata": {
    "id": "xh-HmYBm_pts"
   },
   "source": [
    "The basic algorithm for fitting is described below.\n",
    "The algorithm estimates ``parameters``, the vector of values of unknown parameters.\n",
    "The inputs to the algoritm are:\n",
    "- ``model`` - the simulation model\n",
    "- ``parameters`` parameters to estimate with their initial values\n",
    "- ``observedData`` observed data used for fitting\n",
    "\n",
    "1. **Initialization**\n",
    "   1. ``fittedData = simulate(model, parameters)``\n",
    "   1. ``residuals = observedData - fittedData``\n",
    "1. **Loop**\n",
    "   1. ``parameters`` = adjust ``parameters`` based on ``residuals``\n",
    "   1. ``fittedData = simulation(parameters)``\n",
    "   1. ``residuals = observedData - fittedData``\n",
    "   1. if ``residuals`` are small\n",
    "       1. ``return parameters``"
   ]
  },
  {
   "cell_type": "markdown",
   "metadata": {
    "id": "ngfRSZI6_pts"
   },
   "source": [
    "The algorithm is fairly straight forward, with one exception.\n",
    "Step A - \"adjust ``parameters`` based on ``residuals``\" How are these adjustments made?\n",
    "\n",
    "The adjustments are made based on an optimization that chooses parameter values that\n",
    "minimize the residuals.\n",
    "We give a brief discussion of optimization in the next section."
   ]
  },
  {
   "cell_type": "markdown",
   "metadata": {
    "id": "a_t7SuG-15LH"
   },
   "source": [
    "# Exercise\n",
    "For the ``LINEAR_PATHWWAY_MODEL`` model and ``LINEAR_PATHWAY_ARR`` data:\n",
    "\n",
    "1. Plot the residuals for all chemical species using a model with the true values of parameters. Use the values 1, 2, 3, 4 or ``k1``, ``k2``, ``k3``, ``k4``.\n",
    "Where are the residuals the largest? Why?\n",
    "\n",
    "1. Evaluate possible fits for ``k1``. You can quantify the \"goodness\" of a fit by calculating **RSQ**, the sum of squared residuals, for a set of parameter values. Run simulations with ``k1`` in the range $[0, 4]$ for 20 equally separated values. Plot RSQ. Where on the plot does the true value appear?\n",
    "\n",
    "1. Use the approach in (2) to propose an algorithm for parameter estimation. (No code is required; just a description in words.) What is the performance of this algorithm as the number of parameters increases?"
   ]
  },
  {
   "cell_type": "code",
   "execution_count": 24,
   "metadata": {},
   "outputs": [
    {
     "data": {
      "image/png": "[encoded data removed]",
      "text/plain": [
       "<Figure size 432x288 with 1 Axes>"
      ]
     },
     "metadata": {
      "needs_background": "light"
     },
     "output_type": "display_data"
    }
   ],
   "source": [
    "plotLinearPathway()"
   ]
  },
  {
   "cell_type": "code",
   "execution_count": 9,
   "metadata": {
    "colab": {
     "base_uri": "https://localhost:8080/",
     "height": 0
    },
    "executionInfo": {
     "elapsed": 375,
     "status": "ok",
     "timestamp": 1657228128074,
     "user": {
      "displayName": "Joseph Hellerstein",
      "userId": "07301174361489660166"
     },
     "user_tz": 420
    },
    "id": "BXtzRquYhk7T",
    "outputId": "e36b2db0-0b10-4020-ac82-8bc1a5d48409"
   },
   "outputs": [
    {
     "data": {
      "image/png": "[encoded data removed]",
      "text/plain": [
       "<Figure size 432x288 with 1 Axes>"
      ]
     },
     "metadata": {},
     "output_type": "display_data"
    }
   ],
   "source": [
    "# Getting started on item (1)\n",
    "rr = te.loada(LINEAR_PATHWAY_MODEL)\n",
    "rr[\"k1\"] = 1\n",
    "rr[\"k2\"] = 2\n",
    "rr[\"k3\"] = 3\n",
    "rr[\"k4\"] = 4\n",
    "fittedData = rr.simulate(1, 10, 100)\n",
    "rr.plot()"
   ]
  },
  {
   "cell_type": "code",
   "execution_count": 10,
   "metadata": {
    "executionInfo": {
     "elapsed": 5,
     "status": "ok",
     "timestamp": 1657228128074,
     "user": {
      "displayName": "Joseph Hellerstein",
      "userId": "07301174361489660166"
     },
     "user_tz": 420
    },
    "id": "wECP8oiViQGq"
   },
   "outputs": [],
   "source": [
    "# Residual for S1\n",
    "times = LINEAR_PATHWAY_ARR[:, 0] # time\n",
    "observedS1Arr = LINEAR_PATHWAY_ARR[:, 1] # S1\n"
   ]
  },
  {
   "cell_type": "code",
   "execution_count": 11,
   "metadata": {
    "colab": {
     "base_uri": "https://localhost:8080/",
     "height": 424
    },
    "executionInfo": {
     "elapsed": 187,
     "status": "ok",
     "timestamp": 1657228128257,
     "user": {
      "displayName": "Joseph Hellerstein",
      "userId": "07301174361489660166"
     },
     "user_tz": 420
    },
    "id": "6YsVHix0lOae",
    "outputId": "0cdfe662-cfcd-4eb6-f122-c959e959eb7d"
   },
   "outputs": [
    {
     "data": {
      "text/html": [
       "<div>\n",
       "<style scoped>\n",
       "    .dataframe tbody tr th:only-of-type {\n",
       "        vertical-align: middle;\n",
       "    }\n",
       "\n",
       "    .dataframe tbody tr th {\n",
       "        vertical-align: top;\n",
       "    }\n",
       "\n",
       "    .dataframe thead th {\n",
       "        text-align: right;\n",
       "    }\n",
       "</style>\n",
       "<table border=\"1\" class=\"dataframe\">\n",
       "  <thead>\n",
       "    <tr style=\"text-align: right;\">\n",
       "      <th></th>\n",
       "      <th>time</th>\n",
       "      <th>S1</th>\n",
       "      <th>S2</th>\n",
       "      <th>S3</th>\n",
       "      <th>S4</th>\n",
       "      <th>S5</th>\n",
       "    </tr>\n",
       "  </thead>\n",
       "  <tbody>\n",
       "    <tr>\n",
       "      <th>0</th>\n",
       "      <td>1.000000</td>\n",
       "      <td>8.516780</td>\n",
       "      <td>0.000000</td>\n",
       "      <td>0.000000</td>\n",
       "      <td>0.000000</td>\n",
       "      <td>0.000000</td>\n",
       "    </tr>\n",
       "    <tr>\n",
       "      <th>1</th>\n",
       "      <td>1.090909</td>\n",
       "      <td>7.453911</td>\n",
       "      <td>0.761657</td>\n",
       "      <td>0.073722</td>\n",
       "      <td>0.006608</td>\n",
       "      <td>0.000482</td>\n",
       "    </tr>\n",
       "    <tr>\n",
       "      <th>2</th>\n",
       "      <td>1.181818</td>\n",
       "      <td>8.282868</td>\n",
       "      <td>1.212772</td>\n",
       "      <td>0.260522</td>\n",
       "      <td>0.038722</td>\n",
       "      <td>0.007036</td>\n",
       "    </tr>\n",
       "    <tr>\n",
       "      <th>3</th>\n",
       "      <td>1.272727</td>\n",
       "      <td>7.613030</td>\n",
       "      <td>1.810058</td>\n",
       "      <td>0.352075</td>\n",
       "      <td>0.083708</td>\n",
       "      <td>0.031581</td>\n",
       "    </tr>\n",
       "    <tr>\n",
       "      <th>4</th>\n",
       "      <td>1.363636</td>\n",
       "      <td>6.315379</td>\n",
       "      <td>2.254405</td>\n",
       "      <td>0.699869</td>\n",
       "      <td>0.159682</td>\n",
       "      <td>0.085216</td>\n",
       "    </tr>\n",
       "    <tr>\n",
       "      <th>...</th>\n",
       "      <td>...</td>\n",
       "      <td>...</td>\n",
       "      <td>...</td>\n",
       "      <td>...</td>\n",
       "      <td>...</td>\n",
       "      <td>...</td>\n",
       "    </tr>\n",
       "    <tr>\n",
       "      <th>95</th>\n",
       "      <td>9.636364</td>\n",
       "      <td>0.001848</td>\n",
       "      <td>0.001562</td>\n",
       "      <td>0.001627</td>\n",
       "      <td>0.001779</td>\n",
       "      <td>10.644394</td>\n",
       "    </tr>\n",
       "    <tr>\n",
       "      <th>96</th>\n",
       "      <td>9.727273</td>\n",
       "      <td>0.001355</td>\n",
       "      <td>0.001709</td>\n",
       "      <td>0.001589</td>\n",
       "      <td>0.001345</td>\n",
       "      <td>9.547320</td>\n",
       "    </tr>\n",
       "    <tr>\n",
       "      <th>97</th>\n",
       "      <td>9.818182</td>\n",
       "      <td>0.001299</td>\n",
       "      <td>0.001596</td>\n",
       "      <td>0.001622</td>\n",
       "      <td>0.001715</td>\n",
       "      <td>9.130269</td>\n",
       "    </tr>\n",
       "    <tr>\n",
       "      <th>98</th>\n",
       "      <td>9.909091</td>\n",
       "      <td>0.001271</td>\n",
       "      <td>0.001288</td>\n",
       "      <td>0.001250</td>\n",
       "      <td>0.001256</td>\n",
       "      <td>10.895552</td>\n",
       "    </tr>\n",
       "    <tr>\n",
       "      <th>99</th>\n",
       "      <td>10.000000</td>\n",
       "      <td>0.001239</td>\n",
       "      <td>0.001106</td>\n",
       "      <td>0.001096</td>\n",
       "      <td>0.001188</td>\n",
       "      <td>11.526633</td>\n",
       "    </tr>\n",
       "  </tbody>\n",
       "</table>\n",
       "<p>100 rows × 6 columns</p>\n",
       "</div>"
      ],
      "text/plain": [
       "         time        S1        S2        S3        S4         S5\n",
       "0    1.000000  8.516780  0.000000  0.000000  0.000000   0.000000\n",
       "1    1.090909  7.453911  0.761657  0.073722  0.006608   0.000482\n",
       "2    1.181818  8.282868  1.212772  0.260522  0.038722   0.007036\n",
       "3    1.272727  7.613030  1.810058  0.352075  0.083708   0.031581\n",
       "4    1.363636  6.315379  2.254405  0.699869  0.159682   0.085216\n",
       "..        ...       ...       ...       ...       ...        ...\n",
       "95   9.636364  0.001848  0.001562  0.001627  0.001779  10.644394\n",
       "96   9.727273  0.001355  0.001709  0.001589  0.001345   9.547320\n",
       "97   9.818182  0.001299  0.001596  0.001622  0.001715   9.130269\n",
       "98   9.909091  0.001271  0.001288  0.001250  0.001256  10.895552\n",
       "99  10.000000  0.001239  0.001106  0.001096  0.001188  11.526633\n",
       "\n",
       "[100 rows x 6 columns]"
      ]
     },
     "execution_count": 11,
     "metadata": {},
     "output_type": "execute_result"
    }
   ],
   "source": [
    "LINEAR_PATHWAY_DF"
   ]
  },
  {
   "cell_type": "code",
   "execution_count": 12,
   "metadata": {
    "colab": {
     "base_uri": "https://localhost:8080/"
    },
    "executionInfo": {
     "elapsed": 6,
     "status": "ok",
     "timestamp": 1657228128258,
     "user": {
      "displayName": "Joseph Hellerstein",
      "userId": "07301174361489660166"
     },
     "user_tz": 420
    },
    "id": "_cXQ7R8ojtw1",
    "outputId": "999fd589-61e4-4373-93eb-bc4ba5eaa16a"
   },
   "outputs": [
    {
     "data": {
      "text/plain": [
       "array([1.00000000e+01, 9.13100716e+00, 8.33752918e+00, 7.61300387e+00,\n",
       "       6.95143928e+00, 6.34736419e+00, 5.79578279e+00, 5.29213342e+00,\n",
       "       4.83225082e+00, 4.41233169e+00, 4.02890323e+00, 3.67879443e+00,\n",
       "       3.35910984e+00, 3.06720560e+00, 2.80066764e+00, 2.55729167e+00,\n",
       "       2.33506488e+00, 2.13214943e+00, 1.94686720e+00, 1.77768585e+00,\n",
       "       1.62320624e+00, 1.48215079e+00, 1.35335297e+00, 1.23574758e+00,\n",
       "       1.12836201e+00, 1.03030821e+00, 9.40775264e-01, 8.59022677e-01,\n",
       "       7.84374298e-01, 7.16212784e-01, 6.53974455e-01, 5.97144598e-01,\n",
       "       5.45253209e-01, 4.97871135e-01, 4.54606525e-01, 4.15101577e-01,\n",
       "       3.79029579e-01, 3.46092208e-01, 3.16017067e-01, 2.88555434e-01,\n",
       "       2.63480196e-01, 2.40583976e-01, 2.19677419e-01, 2.00587625e-01,\n",
       "       1.83156720e-01, 1.67240546e-01, 1.52707475e-01, 1.39437316e-01,\n",
       "       1.27320324e-01, 1.16256288e-01, 1.06153709e-01, 9.69290354e-02,\n",
       "       8.85059786e-02, 8.08148788e-02, 7.37921299e-02, 6.73796522e-02,\n",
       "       6.15244139e-02, 5.61779911e-02, 5.12961682e-02, 4.68385718e-02,\n",
       "       4.27683370e-02, 3.90518024e-02, 3.56582317e-02, 3.25595596e-02,\n",
       "       2.97301596e-02, 2.71466323e-02, 2.47876114e-02, 2.26335875e-02,\n",
       "       2.06667466e-02, 1.88708226e-02, 1.72309631e-02, 1.57336061e-02,\n",
       "       1.43663682e-02, 1.31179422e-02, 1.19780034e-02, 1.09371244e-02,\n",
       "       9.98669694e-03, 9.11886089e-03, 8.32643910e-03, 7.60287813e-03,\n",
       "       6.94219403e-03, 6.33892285e-03, 5.78807545e-03, 5.28509626e-03,\n",
       "       4.82582557e-03, 4.40646515e-03, 4.02354682e-03, 3.67390379e-03,\n",
       "       3.35464447e-03, 3.06312852e-03, 2.79694508e-03, 2.55389277e-03,\n",
       "       2.33196151e-03, 2.12931590e-03, 1.94428003e-03, 1.77532364e-03,\n",
       "       1.62104941e-03, 1.48018150e-03, 1.35155489e-03, 1.23410584e-03])"
      ]
     },
     "execution_count": 12,
     "metadata": {},
     "output_type": "execute_result"
    }
   ],
   "source": [
    "fittedS1Arr = fittedData[\"[S1]\"]\n",
    "fittedS1Arr"
   ]
  },
  {
   "cell_type": "code",
   "execution_count": 13,
   "metadata": {
    "colab": {
     "base_uri": "https://localhost:8080/"
    },
    "executionInfo": {
     "elapsed": 5,
     "status": "ok",
     "timestamp": 1657228128258,
     "user": {
      "displayName": "Joseph Hellerstein",
      "userId": "07301174361489660166"
     },
     "user_tz": 420
    },
    "id": "_e5DzCmekNmH",
    "outputId": "2223be34-673b-49a4-fab6-32bf20f84340"
   },
   "outputs": [
    {
     "data": {
      "text/plain": [
       "array([-1.48321964e+00, -1.67709602e+00, -5.46616022e-02,  2.63468291e-05,\n",
       "       -6.36060102e-01,  1.25292940e+00, -4.06673396e-01,  1.19268825e-01,\n",
       "       -2.67755660e-01, -8.81612326e-01, -7.56680985e-01,  7.22219741e-01,\n",
       "       -2.86040402e-01,  5.42938796e-02,  1.49157014e-01,  3.52683708e-01,\n",
       "       -4.10627922e-02,  3.95594436e-01,  2.66615212e-01,  1.22197671e-01,\n",
       "        2.61159363e-01,  8.53577764e-02, -2.52039064e-02,  1.54387729e-01,\n",
       "       -1.35718270e-01,  2.02427618e-01,  1.33193057e-02,  1.48567905e-01,\n",
       "        6.23620567e-02,  7.23858950e-03,  1.19959087e-02,  4.24964773e-02,\n",
       "       -7.69290328e-02, -1.33420508e-02, -1.31050054e-02, -2.86151896e-02,\n",
       "        7.48863258e-02, -6.35487380e-02,  8.12922208e-03,  4.84786000e-02,\n",
       "        3.68854899e-02,  1.32870090e-02,  1.29437929e-02, -3.83439671e-02,\n",
       "        2.50661018e-02,  2.68198286e-03, -7.74227408e-03, -1.00110312e-02,\n",
       "       -4.96236662e-03, -1.46619369e-02,  5.24163659e-03, -1.27933221e-03,\n",
       "       -5.24970761e-03, -1.44075360e-02,  7.56875326e-03, -1.14463881e-02,\n",
       "       -1.11490506e-02,  5.77065532e-03,  7.59999568e-03,  1.85290841e-03,\n",
       "       -7.55444090e-04, -1.49707113e-03, -1.64463626e-03,  1.87972350e-03,\n",
       "        3.66103595e-03, -2.05808917e-03,  4.22709277e-03,  2.94236016e-03,\n",
       "        1.41421410e-03, -1.41257388e-03,  2.34730123e-03, -2.04364487e-03,\n",
       "        1.02737258e-04, -2.40634767e-03,  2.13804009e-03,  1.38994595e-03,\n",
       "        4.30665665e-04, -7.12503379e-04, -7.79386419e-04,  9.97589027e-06,\n",
       "       -1.16639836e-03,  6.35502867e-05,  4.95273876e-04, -6.39615538e-04,\n",
       "        6.63422006e-04,  5.49100689e-04, -2.60507014e-04,  5.90059661e-04,\n",
       "        1.12100587e-04,  5.78049701e-04,  3.57700823e-04, -2.12499259e-04,\n",
       "       -9.72096162e-05, -2.96954219e-04, -1.55866458e-04,  7.22475389e-05,\n",
       "       -2.66527695e-04, -1.80938683e-04, -8.01503685e-05,  4.60751663e-06])"
      ]
     },
     "execution_count": 13,
     "metadata": {},
     "output_type": "execute_result"
    }
   ],
   "source": [
    "S1Residuals = observedS1Arr - fittedS1Arr\n",
    "S1Residuals"
   ]
  }
 ],
 "metadata": {
  "colab": {
   "collapsed_sections": [
    "DDsRwu1v_ptn"
   ],
   "name": "Parameter-Fitting-Part-1b-Analyzing-fits.ipynb",
   "provenance": [],
   "toc_visible": true
  },
  "kernelspec": {
   "display_name": "Python 3",
   "language": "python",
   "name": "python3"
  },
  "language_info": {
   "codemirror_mode": {
    "name": "ipython",
    "version": 3
   },
   "file_extension": ".py",
   "mimetype": "text/x-python",
   "name": "python",
   "nbconvert_exporter": "python",
   "pygments_lexer": "ipython3",
   "version": "3.6.9"
  },
  "toc-autonumbering": true
 },
 "nbformat": 4,
 "nbformat_minor": 4
}
